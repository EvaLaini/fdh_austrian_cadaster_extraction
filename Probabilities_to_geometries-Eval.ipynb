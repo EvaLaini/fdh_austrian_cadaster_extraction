{
 "cells": [
  {
   "cell_type": "markdown",
   "metadata": {
    "toc": true
   },
   "source": [
    "<h1>Table of Contents<span class=\"tocSkip\"></span></h1>\n",
    "<div class=\"toc\"><ul class=\"toc-item\"></ul></div>"
   ]
  },
  {
   "cell_type": "code",
   "execution_count": null,
   "metadata": {},
   "outputs": [],
   "source": [
    "import cv2\n",
    "import torch\n",
    "import matplotlib.pyplot as plt\n",
    "\n",
    "import multiprocessing as mp\n",
    "\n",
    "import geopandas as gpd\n",
    "import rasterio\n",
    "from shapely import geometry\n",
    "import numpy as np\n",
    "\n",
    "from tqdm import tqdm\n",
    "from skimage.morphology import h_minima, watershed, label\n",
    "\n",
    "from dh_segment_torch.inference import InferenceModel\n",
    "\n",
    "from matplotlib.image import imread\n",
    "from functools import reduce\n",
    "from shapely.ops import unary_union"
   ]
  },
  {
   "cell_type": "code",
   "execution_count": null,
   "metadata": {},
   "outputs": [],
   "source": [
    "DATA = '/dhlabdata4/benali/'\n",
    "MODELS = DATA + 'models/1848/'\n",
    "IMAGES = DATA + 'cadaster_1848_test/eval/'\n",
    "MASKS = IMAGES\n",
    "\n",
    "IMG_NAME = 'castello_06_crop01'\n",
    "MODEL_EDGES_NAME = 'model_edges2_n02'\n",
    "MODEL_CLASSES_NAME = 'model_classes_inv_n01'\n",
    "#MODEL_FULL_NAME\n",
    "MASK_EDGES_NAME = IMG_NAME[:-6] + 'mask_edges_2_' + IMG_NAME[-6:] + '.png'\n",
    "MASK_CLASSES_NAME = IMG_NAME[:-6] + 'mask_classes_' + IMG_NAME[-6:] + '.png'\n",
    "\n",
    "IMG_FORMAT = '.png'\n",
    "#TYPE = 'full' # indicates training with classes and edges\n",
    "TYPE = 'sep' # indicates separate training for classes and edges\n",
    "\n",
    "\n",
    "IMG = IMAGES + IMG_NAME + IMG_FORMAT\n",
    "EDGES = MODELS + MODEL_EDGES_NAME + '.pth'\n",
    "CLASSES = MODELS + MODEL_CLASSES_NAME + '.pth'\n",
    "#FULL\n",
    "MASK_EDGES = MASKS + MASK_EDGES_NAME\n",
    "MASK_CLASSES = MASKS + MASK_CLASSES_NAME\n",
    "\n",
    "DEVICE = 'cpu'\n",
    "#DEVICE = 'cuda:7'\n",
    "SAVE_GEOJSON = False\n",
    "SAVE_EVAL = False"
   ]
  },
  {
   "cell_type": "code",
   "execution_count": null,
   "metadata": {},
   "outputs": [],
   "source": [
    "model_edges = InferenceModel.from_params({\n",
    "    \"model\": {\n",
    "        \"encoder\": \"resnet50\",\n",
    "        \"decoder\": {\n",
    "            \"decoder_channels\": [512, 256, 128, 64, 32],\n",
    "            \"max_channels\": 512\n",
    "        }\n",
    "    }, # Copier/coller du fichier config\n",
    "    \"num_classes\": 2, # A inferer depuis le fichier\n",
    "    \"model_state_dict\": EDGES,\n",
    "    \"device\": DEVICE, # utiliser cuda:0 (ou /1/2)\n",
    "    \"patch_size\": (500,500), # a adapter en fonction\n",
    "    \"patches_batch_size\": 8,\n",
    "    \"patches_overlap\": 0.2, # entre 0 et 1\n",
    "    \"multilabel\": False, #\n",
    "})\n",
    "\n",
    "model_classes = InferenceModel.from_params({\n",
    "    \"model\": {\n",
    "        \"encoder\": \"resnet50\",\n",
    "        \"decoder\": {\n",
    "            \"decoder_channels\": [512, 256, 128, 64, 32],\n",
    "            \"max_channels\": 512\n",
    "        }\n",
    "    },\n",
    "    \"num_classes\": 6,\n",
    "    \"model_state_dict\": CLASSES,\n",
    "    \"device\": DEVICE,\n",
    "    \"patch_size\": (500,500),\n",
    "    \"patches_batch_size\": 8,\n",
    "    \"patches_overlap\": 0,\n",
    "    \"multilabel\": False\n",
    "})"
   ]
  },
  {
   "cell_type": "code",
   "execution_count": null,
   "metadata": {},
   "outputs": [],
   "source": [
    "\"\"\"model_classes_full = InferenceModel.from_params({\n",
    "    \"model\": {\n",
    "        \"encoder\": \"resnet50\",\n",
    "        \"decoder\": {\n",
    "            \"decoder_channels\": [512, 256, 128, 64, 32],\n",
    "            \"max_channels\": 512\n",
    "        }\n",
    "    },\n",
    "    \"num_classes\": 6,\n",
    "    \"model_state_dict\": FULL,\n",
    "    \"device\": DEVICE,\n",
    "    \"patch_size\": (500,500),\n",
    "    \"patches_batch_size\": 8,\n",
    "    \"patches_overlap\": 0,\n",
    "    \"multilabel\": True\n",
    "})\"\"\""
   ]
  },
  {
   "cell_type": "code",
   "execution_count": null,
   "metadata": {},
   "outputs": [],
   "source": [
    "img = cv2.imread(IMG)[:,:,::-1].copy() # lit l'image en RGB"
   ]
  },
  {
   "cell_type": "code",
   "execution_count": null,
   "metadata": {},
   "outputs": [],
   "source": [
    "img_torch = torch.from_numpy(img.transpose(2,0,1)/255).float().unsqueeze(0) # transforme en pytorch"
   ]
  },
  {
   "cell_type": "code",
   "execution_count": null,
   "metadata": {},
   "outputs": [],
   "source": [
    "probs_edges = model_edges.predict_patches(img_torch)[0] \n",
    "\n",
    "probs_classes = model_classes.predict_patches(img_torch)[0]"
   ]
  },
  {
   "cell_type": "code",
   "execution_count": null,
   "metadata": {},
   "outputs": [],
   "source": [
    "#probs_all = model_classes_full.predict_patches(img_torch)[0]"
   ]
  },
  {
   "cell_type": "code",
   "execution_count": null,
   "metadata": {},
   "outputs": [],
   "source": [
    "plt.figure(figsize=(10,10))\n",
    "#plt.imshow(img[:500,0:500])\n",
    "plt.imshow(img)"
   ]
  },
  {
   "cell_type": "code",
   "execution_count": null,
   "metadata": {},
   "outputs": [],
   "source": [
    "plt.figure(figsize=(10,10))\n",
    "plt.imshow(probs_edges.cpu().numpy()[1], cmap='gray')\n",
    "#plt.imshow(probs_edges.cpu().numpy()[1]>0.1, cmap='gray')"
   ]
  },
  {
   "cell_type": "code",
   "execution_count": null,
   "metadata": {},
   "outputs": [],
   "source": [
    "plt.figure(figsize=(10,10))\n",
    "plt.imshow(probs_classes.cpu().numpy()[0][1000:,:-500])"
   ]
  },
  {
   "cell_type": "code",
   "execution_count": null,
   "metadata": {},
   "outputs": [],
   "source": [
    "\"\"\"plt.figure(figsize=(10,10))\n",
    "plt.imshow(probs_all.cpu().numpy()[0][0:500,0:500], cmap='gray')\"\"\""
   ]
  },
  {
   "cell_type": "code",
   "execution_count": null,
   "metadata": {},
   "outputs": [],
   "source": [
    "\"\"\"plt.figure(figsize=(10,10))\n",
    "plt.imshow(probs_all.cpu().numpy()[1:][0:500,0:500], cmap='gray')\"\"\""
   ]
  },
  {
   "cell_type": "code",
   "execution_count": null,
   "metadata": {},
   "outputs": [],
   "source": [
    "contours = probs_edges.cpu().numpy()[1]\n",
    "#contours = probs_all.numpy()[0]\n",
    "\n",
    "minimas = label(h_minima(contours, 0.1))\n",
    "\n",
    "watershed_parcels = watershed((255 * contours).astype('int'), minimas)"
   ]
  },
  {
   "cell_type": "code",
   "execution_count": null,
   "metadata": {},
   "outputs": [],
   "source": [
    "fig, axes = plt.subplots(ncols=2, figsize=(16, 8), sharex=True, sharey=True)\n",
    "ax = axes.ravel()\n",
    "\n",
    "ax[0].imshow(img, cmap=plt.cm.gray)\n",
    "ax[0].set_title('Cadaster')\n",
    "\n",
    "ax[1].imshow(watershed_parcels, cmap=plt.cm.nipy_spectral)\n",
    "ax[1].set_title('Watershed parcels')"
   ]
  },
  {
   "cell_type": "code",
   "execution_count": null,
   "metadata": {},
   "outputs": [],
   "source": [
    "idx2class = dict(enumerate(['background', 'street', 'water', 'church', 'courtyard', 'building']))\n",
    "num_parcels= np.unique(watershed_parcels)"
   ]
  },
  {
   "cell_type": "code",
   "execution_count": null,
   "metadata": {},
   "outputs": [],
   "source": [
    "from affine import Affine\n",
    "\n",
    "if (IMG_FORMAT == '.tif'):\n",
    "    transform = rasterio.open(IMG).transform\n",
    "else:\n",
    "    geotransform = (0, 1, 0.0, 0, 0, -1)\n",
    "    transform = Affine.from_gdal(*geotransform)"
   ]
  },
  {
   "cell_type": "code",
   "execution_count": null,
   "metadata": {},
   "outputs": [],
   "source": [
    "def num_parcel2res(parcel_idx, probs_classes=probs_classes, watershed_parcels=watershed_parcels):\n",
    "    mask_parcel = watershed_parcels == parcel_idx\n",
    "    class_idx = np.bincount(probs_classes.cpu()[0:, mask_parcel].argmax(axis=0)).argmax()\n",
    "    #class_idx = np.bincount(probs_all.cpu()[1:, mask_parcel].argmax(axis=0)).argmax()\n",
    "    contours, hierarchy = cv2.findContours(mask_parcel.astype('uint8').copy(), cv2.RETR_CCOMP, cv2.CHAIN_APPROX_SIMPLE)\n",
    "\n",
    "    poly1 = (cv2.approxPolyDP(contours[0], 1, closed=True)[:,0,:]).tolist()\n",
    "    poly1.append(poly1[0])\n",
    "    poly1 = [transform*x for x in poly1]\n",
    "    holes = []\n",
    "    for h in contours[1:]:\n",
    "        poly2 = (cv2.approxPolyDP(h, 1, closed=True)[:,0,:]).tolist()\n",
    "        poly2.append(poly2[0])\n",
    "        poly2 = [transform*x for x in poly2]\n",
    "        holes.append(poly2)\n",
    "    poly = geometry.Polygon(poly1, holes=holes)\n",
    "    return poly, idx2class[class_idx]"
   ]
  },
  {
   "cell_type": "code",
   "execution_count": null,
   "metadata": {},
   "outputs": [],
   "source": [
    "results = []\n",
    "\n",
    "for idx in tqdm(num_parcels):\n",
    "    results.append(num_parcel2res(idx))\n",
    "    \n",
    "all_polys = [x[0] for x in results]\n",
    "all_classes = [x[1] for x in results]\n",
    "\n",
    "all_polys = gpd.GeoSeries(all_polys)\n",
    "all_polys.crs = 'EPSG:3004'"
   ]
  },
  {
   "cell_type": "code",
   "execution_count": null,
   "metadata": {},
   "outputs": [],
   "source": [
    "all_polys.plot(figsize=(10,10))"
   ]
  },
  {
   "cell_type": "code",
   "execution_count": null,
   "metadata": {},
   "outputs": [],
   "source": [
    "geodata = all_polys.to_frame('geometry')\n",
    "geodata['class'] = all_classes"
   ]
  },
  {
   "cell_type": "code",
   "execution_count": null,
   "metadata": {},
   "outputs": [],
   "source": [
    "palette = ['#000000', '#FFFF00','#00FFFF','#FF0000','#00FF00','#FF00FF']\n",
    "fig, ax = plt.subplots(figsize=(10,10))\n",
    "for idx, label_ in idx2class.items():\n",
    "    geodata.loc[geodata['class'] == label_]['geometry'].plot(color=palette[idx], label=label_, ax=ax)"
   ]
  },
  {
   "cell_type": "code",
   "execution_count": null,
   "metadata": {},
   "outputs": [],
   "source": [
    "if SAVE_GEOJSON:\n",
    "    if TYPE == 'sep':\n",
    "        geodata.to_file(MODELS + 'geojsons/' + IMG_NAME + MODEL_EDGES_NAME + MODEL_CLASSES_NAME + '.geojson',\n",
    "                        driver='GeoJSON')\n",
    "    elif TYPE == 'full':\n",
    "        geodata.to_file(MODELS + 'geojsons/' + IMG_NAME + MODEL_FULL_NAME + '.geojson', driver='GeoJSON')"
   ]
  },
  {
   "cell_type": "code",
   "execution_count": null,
   "metadata": {},
   "outputs": [],
   "source": [
    "vect = np.vectorize(lambda x: int(round(x) * 255))\n",
    "im_classes = vect(imread(MASK_CLASSES)[:,:,:3])\n",
    "im_edges = vect(imread(MASK_EDGES)[:,:,:3])"
   ]
  },
  {
   "cell_type": "code",
   "execution_count": null,
   "metadata": {},
   "outputs": [],
   "source": [
    "def hex_to_dec(s):\n",
    "    return int(s, 16)\n",
    "\n",
    "def hex_to_rgb(h):\n",
    "    return np.array(list(map(hex_to_dec, (h[1:3], h[3:5], h[5:7]))))\n",
    "\n",
    "rgb_palette = [hex_to_rgb(x) for x in palette]\n",
    "\n",
    "def mask_to_probabilities(class_mask, palette=rgb_palette):\n",
    "    probas = np.zeros((len(palette), class_mask.shape[0], class_mask.shape[1]))\n",
    "    for i, color in enumerate(palette):\n",
    "        probas[i] = (class_mask == color).all(axis=2).astype(int)\n",
    "    return probas\n",
    "        \n",
    "def eval_classes(pred, real):\n",
    "    ious = []\n",
    "    weights = []\n",
    "    for label_ in idx2class.values():\n",
    "        pred_geometries = pred.loc[pred['class'] == label_]['geometry']\n",
    "        real_geometries = real.loc[real['class'] == label_]['geometry']\n",
    "        pred_union = unary_union(pred_geometries)\n",
    "        real_union = unary_union(real_geometries)\n",
    "        union_area = unary_union([pred_union, real_union]).area\n",
    "        if union_area:\n",
    "            ious.append(round(pred_union.intersection(real_union).area / union_area, 3))\n",
    "            weights.append(real_union.area)\n",
    "        else:\n",
    "            ious.append(None)\n",
    "    ious_clean = indices = [x for x in ious if x is not None]\n",
    "    miou = round(np.mean(ious_clean), 3)\n",
    "    wmiou = round(np.average(np.array(ious_clean), weights=np.array(weights)), 3)\n",
    "    return dict(zip(idx2class.values(), ious)), miou, wmiou\n",
    "\n",
    "def eval_edges(pred, real):\n",
    "    pred_1s = np.vectorize(lambda e: int(e >= 0.1))(pred[1].numpy()) == 1\n",
    "    real_1s = real == 1\n",
    "    union = np.sum(np.logical_or(pred_1s, real_1s))\n",
    "    real_count = np.sum(real_1s)\n",
    "    if (union and real_count):\n",
    "        iou = round(np.sum(np.logical_and(pred_1s, real_1s)) / union, 3)\n",
    "        ratio = round(np.sum(np.logical_and(pred_1s, real_1s)) / real_count, 3)\n",
    "    elif union:\n",
    "        iou = round(np.sum(np.logical_and(pred_1s, real_1s)) / union, 3)\n",
    "        ratio = None\n",
    "    elif real_count:\n",
    "        iou = None\n",
    "        ratio = round(np.sum(np.logical_and(pred_1s, real_1s)) / real_count, 3)\n",
    "    else:\n",
    "        iou = None\n",
    "        ratio = None\n",
    "    return iou, ratio"
   ]
  },
  {
   "cell_type": "code",
   "execution_count": null,
   "metadata": {},
   "outputs": [],
   "source": [
    "edges_real = (im_edges != rgb_palette[0]).all(axis=2).astype(int)\n",
    "minimas_real = label(h_minima(edges_real, 0.5))\n",
    "\n",
    "watershed_parcels_real = watershed(vect(edges_real), minimas_real)"
   ]
  },
  {
   "cell_type": "code",
   "execution_count": null,
   "metadata": {},
   "outputs": [],
   "source": [
    "num_parcels_real = np.unique(watershed_parcels_real)\n",
    "results_real = []\n",
    "probs_classes_real = mask_to_probabilities(im_classes)\n",
    "for idx in tqdm(num_parcels_real):\n",
    "    results_real.append(num_parcel2res(idx, probs_classes_real, watershed_parcels_real))\n",
    "    \n",
    "all_polys_real = [x[0] for x in results_real]\n",
    "all_classes_real = [x[1] for x in results_real]\n",
    "\n",
    "all_polys_real = gpd.GeoSeries(all_polys_real)\n",
    "all_polys_real.crs = 'EPSG:3004'\n",
    "\n",
    "geodata_real = all_polys_real.to_frame('geometry')\n",
    "geodata_real['class'] = all_classes_real"
   ]
  },
  {
   "cell_type": "code",
   "execution_count": null,
   "metadata": {},
   "outputs": [],
   "source": [
    "from json import dumps\n",
    "def print_eval(write_on=False):\n",
    "    ious, miou, wmiou = eval_classes(geodata, geodata_real)\n",
    "    iou, ratio = eval_edges(probs_edges, edges_real)\n",
    "    ious_str = f'IOU per class:\\n{dumps(ious, indent=2)}\\n'\n",
    "    miou_str = f'MIOU = {miou}\\n'\n",
    "    wmiou_str = f'Weighted MIOU = {wmiou} (weights = real area of class)\\n'\n",
    "    edges_str = f'IOU for edges = {iou}\\nRatio of correctly detected  edges = {ratio}\\n'\n",
    "    if write_on:\n",
    "        res_file = open(DATA + 'model_eval.txt', 'a')\n",
    "        res_file.write('\\n========================================\\n\\n')\n",
    "        if (TYPE=='sep'):\n",
    "            title=f'Results for {IMG_NAME} with edge model {MODEL_EDGES_NAME} and class model {MODEL_CLASSES_NAME}\\n'\n",
    "        elif (TYPE=='full'):\n",
    "            title = f'Results for {IMG_NAME} with model {MODEL_FULL_NAME}\\n'\n",
    "        res_file.write(title)\n",
    "        res_file.write('Evalutation for classes:\\n')\n",
    "        res_file.write(ious_str)\n",
    "        res_file.write(miou_str)\n",
    "        res_file.write(wmiou_str)\n",
    "        if (TYPE=='sep'):\n",
    "            res_file.write('\\nEvalutation for edges:\\n')\n",
    "            res_file.write(edges_str)\n",
    "        res_file.close()\n",
    "    print(ious_str, miou_str, wmiou_str)\n",
    "    if (TYPE=='sep'):\n",
    "        print(edges_str)\n",
    "print_eval(SAVE_EVAL)"
   ]
  }
 ],
 "metadata": {
  "kernelspec": {
   "display_name": "Python 3",
   "language": "python",
   "name": "python3"
  },
  "language_info": {
   "codemirror_mode": {
    "name": "ipython",
    "version": 3
   },
   "file_extension": ".py",
   "mimetype": "text/x-python",
   "name": "python",
   "nbconvert_exporter": "python",
   "pygments_lexer": "ipython3",
   "version": "3.7.9"
  },
  "toc": {
   "base_numbering": 1,
   "nav_menu": {},
   "number_sections": true,
   "sideBar": true,
   "skip_h1_title": false,
   "title_cell": "Table of Contents",
   "title_sidebar": "Contents",
   "toc_cell": true,
   "toc_position": {},
   "toc_section_display": true,
   "toc_window_display": false
  }
 },
 "nbformat": 4,
 "nbformat_minor": 4
}
